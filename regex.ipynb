{
 "cells": [
  {
   "cell_type": "code",
   "execution_count": 7,
   "metadata": {},
   "outputs": [],
   "source": [
    "import pandas as pd\n",
    "import re"
   ]
  },
  {
   "cell_type": "markdown",
   "metadata": {},
   "source": [
    "1). Write a function named is_vowel. It should accept a string as input and use a regular expression to determine if the passed string is a vowel. While not explicity mentioned in the lesson, you can treat the result of re.search as a boolean value that indicates whether or not the regular expression matches the given string."
   ]
  },
  {
   "cell_type": "code",
   "execution_count": 8,
   "metadata": {},
   "outputs": [],
   "source": [
    "def is_vowel(x):\n",
    "    '''returns whether string (x) is a vowel or not'''\n",
    "    regex = r'^[aeiouAEIOU]$'\n",
    "    return bool(re.search(regex, x))\n",
    "  "
   ]
  },
  {
   "cell_type": "code",
   "execution_count": 13,
   "metadata": {},
   "outputs": [
    {
     "data": {
      "text/plain": [
       "True"
      ]
     },
     "execution_count": 13,
     "metadata": {},
     "output_type": "execute_result"
    }
   ],
   "source": [
    "is_vowel('A')"
   ]
  },
  {
   "cell_type": "markdown",
   "metadata": {},
   "source": [
    "2) Write a function named is_valid_username that accepts a string as input. A valid username starts with a lowercase letter, and only consists of lowercase letters, numbers, or the _ character. It should also be no longer than 32 characters. The function should return either True or False depending on whether the passed string is a valid username."
   ]
  },
  {
   "cell_type": "code",
   "execution_count": 36,
   "metadata": {},
   "outputs": [],
   "source": [
    "def is_valid_username(x):\n",
    "    '''\n",
    "    * takes in string\n",
    "    * starts with a lowercase letter\n",
    "    * only consists of lowercase letters, numbers or _\n",
    "    * no longer than 32 characters\n",
    "    * return T/F \n",
    "    '''\n",
    "    regex = r'^[a-z][a-z1-9_]{,31}$'\n",
    "    return bool(re.search(regex, x))"
   ]
  },
  {
   "cell_type": "raw",
   "metadata": {},
   "source": [
    ">>> is_valid_username('aaaaaaaaaaaaaaaaaaaaaaaaaaaaaaaaa')\n",
    "False\n",
    ">>> is_valid_username('codeup')\n",
    "True\n",
    ">>> is_valid_username('Codeup')\n",
    "False\n",
    ">>> is_valid_username('codeup123')\n",
    "True\n",
    ">>> is_valid_username('1codeup')\n",
    "False"
   ]
  },
  {
   "cell_type": "code",
   "execution_count": 42,
   "metadata": {},
   "outputs": [
    {
     "data": {
      "text/plain": [
       "False"
      ]
     },
     "execution_count": 42,
     "metadata": {},
     "output_type": "execute_result"
    }
   ],
   "source": [
    "is_valid_username('1codeup')"
   ]
  },
  {
   "cell_type": "markdown",
   "metadata": {},
   "source": [
    "3) Write a regular expression to capture phone numbers. It should match all of the following:"
   ]
  },
  {
   "cell_type": "raw",
   "metadata": {},
   "source": [
    "(210) 867 5309\n",
    "+1 210.867.5309\n",
    "867-5309\n",
    "210-867-5309"
   ]
  },
  {
   "cell_type": "code",
   "execution_count": 56,
   "metadata": {},
   "outputs": [],
   "source": [
    "def phone_num(x):\n",
    "    '''\n",
    "    * capture (potential) single digit country code\n",
    "    * capture space afterwards\n",
    "    * capture (potential) bracket\n",
    "    * capture 3 consecutive digits area code\n",
    "    * capture (potential) bracket or period or hypen\n",
    "    * capture (potential) space after\n",
    "    * capture 3 consecutive digits\n",
    "    * capture potential - or space or period after\n",
    "    * capture final 4 consecutive digits\n",
    "    '''\n",
    "    regex = re.compile('''\n",
    "    ^(?P<country_code>\\+\\d+)?\n",
    "    \\D*?\n",
    "    (?P<area_code>\\d\\d\\d?)?\n",
    "    \\D*?\n",
    "    (?P<next_3_digits>\\d\\d\\d)\n",
    "    \\D*?\n",
    "    (?P<last_4_digits>\\d{4}) \n",
    "    ''', re.VERBOSE)\n",
    "    return bool(re.search(regex, x))\n",
    "    "
   ]
  },
  {
   "cell_type": "code",
   "execution_count": 61,
   "metadata": {},
   "outputs": [
    {
     "data": {
      "text/plain": [
       "True"
      ]
     },
     "execution_count": 61,
     "metadata": {},
     "output_type": "execute_result"
    }
   ],
   "source": [
    "phone_num('210-867-5309')"
   ]
  },
  {
   "cell_type": "code",
   "execution_count": null,
   "metadata": {},
   "outputs": [],
   "source": []
  }
 ],
 "metadata": {
  "kernelspec": {
   "display_name": "Python 3",
   "language": "python",
   "name": "python3"
  },
  "language_info": {
   "codemirror_mode": {
    "name": "ipython",
    "version": 3
   },
   "file_extension": ".py",
   "mimetype": "text/x-python",
   "name": "python",
   "nbconvert_exporter": "python",
   "pygments_lexer": "ipython3",
   "version": "3.8.5"
  }
 },
 "nbformat": 4,
 "nbformat_minor": 4
}
